{
  "cells": [
    {
      "cell_type": "markdown",
      "metadata": {
        "id": "d7_FVg4DGaQQ"
      },
      "source": [
        "Abolfazl Mohamadi\n",
        "CA02"
      ]
    },
    {
      "cell_type": "markdown",
      "metadata": {
        "id": "BPgAL6C0Krmd"
      },
      "source": [
        "ماتریس تجزیه چولسکی از این رابطه بدست میآید.\n",
        "\n",
        "آن را پیاده سازی میکنیم:\n",
        "![image.png](data:image/png;base64,iVBORw0KGgoAAAANSUhEUgAAALwAAAEMCAIAAADxlks9AAAgAElEQVR4Ae1df0xUx76ff8y9/5Q/jGl7ufGqeK02xeZJIT5Fq7fI7RUkprbhdpEH0la89gdKKj8Ug2hufcEihWfvg7VQbmKvSKBp9Lm4fZG8uJsbiukGQiKKplBAl0LYNpvdbjbNLvPuzOyZnT17ztmzy/44ezgnhJ0zZ3585zuf853vzJn5fgHULo0DYXIAhJleS65xAGqg0UAQNgc00ITNMi2DBhoNA2FzQANN2CzTMmig0TAQNgfEQDMFAPhf6yKEcMzYAvB156ewSxfL0FO5p/fbGd7Tnso9n92Z4EVG69Zm0gPwZrRK48pxVL5e9N3PHqHCXRd12YSBXGL1/IqCZg0HmtaizPqe+1FssXvs1q8PfipU4CMA8uaFHiw9DvXrU28tvRy2BEt3PeGMcOFWM3jqLQ+bQS1hKdDc+Qn2VO4hYmZ//S3a5J7KPbXnOzIByCy7ACF8PN69CicqqLo8D6FnxrI3cxt5ySzd9Styawjj+k4X/9X4AEKoLwaf356GOGVhYWHj+0UAACJ4+k9l8QA6Oz48EHg9mLVTSnDA/VVXFSHybOfNX8gzq3nHShS3Jf/4dz+j+mm/9lTuKWv8mqQyX6pYc6wXQnjlaNrZzpvHczYAAE7evDszbU7HJRLJZ2rWHahpPlWaDXCTCQGLtsm9mdtImBYO4fze9NWX+r7F5XuvHE2LnewkTUjIfynQ4I63X9Rl/9X4wOl0UvquHE3blFX6YNbudDrdY7cAAH23RxYcCxd12RhGjuM5GwgIrhxNAyAVj2vzf855GUc+AiAVQQaDJhOA0o/7nE4nAZbNpM8su+DreJxmxNBRWFhYzl2FhYW8cc2oLwEvlj+Ytc9Mm3cDgHBpNQMALvV9u+BY0De8vSmrdJ4BzZWjaYKg2ZRVevf7H56MXk/noGbprgcgzwmhqVkHAPhseMLpdNblgaL/+h8IoXWofUv+ccIUDjTe4zkbOMQg6i3d9Vuqv8DtUNW/kKDxEtCwjWb53ne6mDCRgOB3v81+MGs3X6o4/N/fQGjf9VTuqZLUz29Pe2Ysr+YeREPPvV46THhmLC/8as3d73/wF241r1x9yA9P/wOxkPu9Z3xSCkI4NzfnxF1FRCCEcNE2WZq91nzvR65fYf+prGDQ6IsBJhhC6DiUBXziAYEv47ufPaZm3br9HxFYUxyYmnVU+qLC1x9mZZiP3Hu9AJSJkZ688UsEjbutOufkzbtc+6fy07fd+Qm9hSDvIrSaf33w06EbtWWNXw/dqCUsRvzNu0jSe2YsG9dvDRxuHgGwlQwoJE0oSTP1B7COp6Eb9SUUxxDaGwp3IeHEgZVFPB2e9MWAGxbtx3M2mO/9iGpHoEHEmJp1ZBQjwoMoZP2nsjic4bEPgMLCwsyyCyziXXYTADtjpKVxPE/A7xJBA/tOF1PeURCg8T59dVNTU33PfffYrYyDx6r/tJ28viFAw/UT5UQoncZRyinsEMIRQ8dndyaoMMCF2CUkjVFfQtAQDdAgiVKXh8dHSj1qzk4WRvRJUgeWChokVEAakRZ9p4tX5NbgFwtJoJSUFKzwTu3fCADY6ZMoSGL7pr4UZJSDSEN6sZzVn+gjsUD/qax1+z/CatDUboBHFtRVgEgLrJfsnGZ0GqO+ZEVujRNC99itTAAiBs3DaycChicyNbOaNzx3wC8p7/WC9YfFKE/eeFHQcOs03k/2rSezHtpIfTGgagFRCcnkhU5ViBgHABCFV1+M5lncC4dkAxlQPDMWAFLZ4WnoRm1B1WVakbyAq606hxBAZR6GMo7DOrJv9oTBSpRZAMCK3Jq+08Xg8FUIYes+//B0KItTkhD4UsnwRNcIEArx8OrX0ggiuTehp3LP/vpbRJcPHCjltSYZUomBJoa0m5p1nALBr+XkS74VRf4DJd67PyjY7tN++OR5cYQjqZrDb4PEfQJAA+HUhucOcIKHoc1qXrf/I+Y+dHB0evT+4/uGYYP5gXl0etQwbFhwLFz55xWx/yTx6PSo+YHZMGy4//i+ROIFx0LPNz0ksfmB+f7j+z3f9LAlPxm9/lTpzgXHwoJjIZhW61A7VZ+DnyZ1TEJAgzRW3nILhLC/tYY3D5LDWfMD84Jj4f7j+6PTowuOBcOwAUJvzzc9gv9J4tHpUZLY/MDsdDrFEhMIErjcf3yf5OWVb/h7V/2XXRAS0cLS6+o8c8Kv3LBPkj+cGNAkP9+WdQs00Czr7o+s8RpoIuPbss6lgWZZd39kjddAExnflnUuDTTLuvsja7wGmsj4tqxzaaBZ1t0fWeM10ETGt2WdSwPNsu7+yBqvgSYyvi3rXBpolnX3R9Z4DTSR8W1Z59JAs6y7P7LGa6CJjG/LOpcGmmXd/ZE1XuGg8Y4YOriDcsvl19iLti0r+VI6aNqqcy71fRt4MFfldxMTsbKCEC0gKhw06ChMBHtAo8UdrRxBDigdNBd12RpoBHsugZFKB01D4S5yeCqBPNKq5nFA6aD5cMcrGmh4fZbwW6WD5oM8ncAJqYSzbXkToHTQ5P/7W6y5muXdWUppvcJB4yo73JhQVnmRzRvGoFNCiVFK5QoHzdSu3dUJZJXT6Tz5ErV3FJoQw9+71Hqqkm28okHjspv+ePBvLLnxD1/UZQefIA4mY8TQ0dJyhljOCn6qshgNNNIdOvVq7kEnhA+vnaDWJMUzzO96KleTNOL8icsT61A7NRwUlwr5lXhmLFtzX2trazt2rpHY0Vm0TfK+YjDWRjTQ8BmYgHvrUHvpx30JqJircszYUtb49UVd9mfD9HsQUo3Zi1GTNdBwjEvgr82kZ0wuJoCQK0fTvhjxWIfaseUvF4MPQWKmtOFJkC9xjbSZ9Izp0LhWjSvzfrjjlTs/IbuydRVHznbelADN7PhwXcWRrbmvHTvX2Hd7JP60xrNGRSvClu76hIImnh2RTHUpGjR3u86p0kx8MgFEiFZFg6a/tUYDjVCvJThO6aCRs7AWMxY+IpZm5f8Xs1oaMwoTU7DSQcOsgiSAQeZLFQAA4j0EQq9T5IKc0w3iXSYBhMa3SiWDxq1veDuxoIHQ3VqUSTz2hNqhYc8EPpdE8e3BBNSmZNC49A1vJ9w5m2fGcigLDVDUHLpYLzEOFsSSqCReyaCxN75flHDQQAifjF5fg/UaaQVrdnyYNdmvEoAINUPpoFHI9z/smAPw3AoJ8TOsuPkmfJ3tvEmcSYWVOYGJlQwaR+P7RcrZIEw8M67IrYlWb518iXjuQI74eC5LolVFjMpRLmgWbZOVrysINBDOE+WG9UATjV5x+9yYRaOs+JQhAhrklQkcO9d45qQOgLRj5xqxe9I3Q80goknzom3yw7eqeDU+Gb1eWFjY1NT0QcF24mAymlWGKsszYyEuXuUvOeqLkfPVT9v/c8dKcKCmuampacfKAEdiI4YO1u1lKBIU8VwYNEZ9CVmnMjXrMssuoBH3Xi/1eRQfwhdtk1X/UcsO9mPGFm7JhPgKjLqf7dAt47yU87woimWc+jfwGvaaNpUJwJcTP0DoPVXq99edjIiBEAqDxul0kjMAn+xbz0013RLfeMV4tpT4Rdsku6vcM2NJJ47jfIWifS1LKT/ivMR5bmbZBRnOKd2EyCej1yncKW+fjF4vO9w4MTGRdNARBg3H0KkdKznXsVxUWL+W7vpCoUuO+7iZaTO7QdioL6EujcOiIQaJkXNUgJ1Dyyx86EZtMPF9p4u35r5WWFi4N3Ob/PFOZo0xTSYFGuwuMINdeyDL6CxBJIYdRNins+PDg0JXgFtlNgMTnpk2H6n9BxfhFTkV4Fva55Kh32Ai6dMxY0t5eXlF0FV7viO801VW5O2d8bFIaxAOsC56hVMkVawUaJDbWc5fOWkUksx5F1n+zo4PZwLwxYgYbCJnxuPxbmaD8KN0oVoWbZPvPp/C+0yIPhgFEkmJCPa9Szb89t0OrwHYR2aG7E8cnEdWSoeAUzH/M+WHpEDD+j0nLbGZ9EGbdu2HNm4WW00ZMXS0CV1y5gsBoMEOcAVXh8/nI0/g7CVEJPt86eH5NQAwu4ZDFIhcAGOn8DSd2JtmatZtqf6CJlNsQAI0rtKgL3BGfckXIx48bPkc5iJ/5dh7rL4YAJDHW8AdMXQ0NTUFw+Zs582QHLEOtTNLXvM+98k425ixhds7/GhL/vFfuCMmBFXBRIasK5wEaKAMa6lmzNhCnDqztbz7fAqPV+xThYdFQUN2BWyp/oIdeE6+BE7evFtXcYRug7V012ccPNZ55kTU18IfXjvBIQPx0DrUnrH9wMDAwFddVcA3fUW+tXlHTCCEwURGsQ9MzbqwFoXJAAoAbyx7RPx144mYz2P5iKEDcM6no0hwLIoSBQ05wzw3N8eAZmrl6kMjhg5m7uPtO1382Z2JUs4FdxRJDN5V7nQ6ydkROvm3dNeXftx3UZeNl0BI5ehIwIih40BNcxSJIUXZTHriqVt+ycE0EyfhmWUXjL1X6XEqXCBa1GH1Rfm1xDmlKGgE6LjXi12fT23KKiW8gNB1PGfDnZ9g/6msz29PByJMoICwotAGYf9pI+Gs+mKkgw/dqMWLSfiICUckUuExyIRzhh/rmbFkBiwUhV8El8N8qeJs5813n08J0MZ8lHOJFPwbBmjudp0jZwP6W2uOnWs03/tx0Tb5QZ5uHqJhIv+Nd+iYFZX23u06J70VAUJ0xOS7nz30iMkvEDlv5hEZFWIgtLcWZYalyojX663LQz7rTc06vNPPTWS5+VIFOxyLZ0/8kzBAE2di+1trZM9pY06a+VLFityaUGMHWjSSQYr9D2DdNPemccepkEnKZNktqlzQdJ45oRDQYFUmI+RkZ+hGrfzlviBszWfGQC8MqiU6EYoFjVcpoLGaVwUtPQjyvv9UVkHVZWbeIJhKIHLE0NH4fhFviVIgnWKiFAsaR13FEQVIGtehLCCnOxdtk+nhfI1SDAAiIUTRoGE/e0XSuCXnaavOAQCkybjIPhtuR8CSK1Z2AYoFzXxdxZGQakRMeYuX/+UflEMp5cikmNIcn8I10Ijy2el0ToR5yZs9idaYLA8UCppF22RFRYWMXU5x4vMyQYNMbioXNB++VaUQ0JB9dyGJmR0fju7ypswujH8yRYMm1GJa/NklXKNnxlJ7vqP2SFaUloyFa1FOrHJBU3a4UQmgWbRN7gb+8wO8HUKdl3uotj50o1YDTSKRPTs+zOz1TCQlELoqXy9i9qd6xajRQCPGmTjFPxm9rhDQeGYs+W+8Q8UJb8Po4OAg/dqkgSZO4GCrWbRN0g5Axzsav2afJir8ZPR6QXEDJWxubo43DadjqFFfohCaY80rheg0LmPv1f0b/Ytjj8e7FbK6amrWyaDEYfh7V13FkfLycu6rdaw7LpHlKwI0i7bJu9//gE3J55E96tahdhldFQ/Gnc/fFmpbTzzIUFQdigANxxH7bs520JixhdlVzj2P7+/s+HDj+0UKwW58mx6iNkWBBmIzMDun8emChIMmBOeW8WNlgQZCewFAB0TkbBBexr2W4KYrDTToqAoAOxvfL2IOGCSYR1r1PA4oDjQQOrDtoDRmPY1Hs3abYA4oEDRE2AQYHkgwk7TqAzmgRNBA6Pr0ZF3Ct+0FMkq783NAmaDx06eFFMgBDTQK7BSlk6SBRuk9pED6NNAosFOUTpIGGqX3kALp00CjwE5ROkkaaJTeQwqkTwONAjtF6SRpoFF6DymQPg00CuwUpZOkgUbpPaRA+jTQKLBTlE6SBhql95AC6dNAo8BOUTpJGmiU3kMKpE8DjQI7RekkaaBReg8pkD4NNArsFKWTJBM0DmPv1c7LPfRIc1Sa5XQ6BwYGgsscMXTEyK7nzLQ5XNdO8lvKke0eGBjg7VXlHskvTNEpxUDjZVqOjGlvzX3t2LlGajwhKm0aulHLuAHzFzlmbOE5J/M/W1po6EZtQdVlemR/aYXxcj8CYCfmj736T9t5Xh3GjC1LsEvNqyjxt2Kgce3mPLkt2ib3pq+Owavv+Et6qsgx6fm96atFHi2JZbEDDfLC5/PvJQAaCKfy07cJOjlbUnsSlFkUNAU+0Lhnx4f3pq/uuz3CiFzvxMQEMX5JI2fHh4kNDtKQRdvkxMQECZOUnClv18TExC8QemYsm7JKOdGFIiF0T0xMkAJ7Kvewh6jdY7dqz3fQugR5RY2AUEESHMOAxkcGLgrVi3MhD7y/QEjaQowzkkbRMXTBsUBceFBSCTGt+6hPRj9oSMMJPT2Ve1RjMDYEaBZtk6XZa4kBZu5NghDO56dvKy8v37z2WRJ5t+vcGmykOSUl5UBNM7JpiB0IEkwM3agFwHeOCfsZQP60WYmN3NOBvFOl2WlpacSpxMNrJ9bt/4iCw+l06hve3pr7Wu35DkFDm2PGllWYgHSA3JhB7I5l89pn09LSfv/c0wXFDZQSYoken+N802d7EZGahhM4Ggp3FRYW/jnn5TUArNv/0VddVWlpaZvXPptx8Bgpwagvydh+oOiVF37/3NMAbOWOgU6t8fv3oqBxnXwJFP3X/5C3xdSsi7Njc8q9qAdCgAZCKDQ8zR/KQr5ifdQgpqdyYmBq/0afhbq6PEAQ0He6ePPaZ8kw31adQxzUGPUlVL1w2U2rAi03W4faN2WV8lxjLtom9Q1v/+632cgGDMOJRdsk4wrajijBkOUGOEQtqZRIGg/2U5eyoYQBzVaMCVdrUWZm2QUsG5CHC5/zbewbl5Rm1JeAF8upOFxzrBcRgjnAUesDTU/lHtbf59CN2k1ZpSFNhDLNUm4wUtBs3My9ZMjUA/sO9VTuIeqt+VIFlkPzr+YeNPadxZHuQ1mAqEesV1WX3fQbkM0y9PF494bnDpCXm8e8x+PdgBMn5NGT0esbnjvAoRbFjRg6WLeRyBgFdrQZCjRI0lAd9r1nfKCH0P5BwXYKGuqViYhDhLB7vQDkcTi2NxTu2v4SIDVS4h+Pd2ug8YPGfKlCEDSYlW8i82NVl//loPvV3IOj06MrVx8iY7ypWUd9lhDQcG8q4rN1qD0YNMjy6pEsADJ45nqJnV8WYTxfo8gf5+GrEMJIQTMvARo0+iBJk8GBHkma+i+7GOHna5EGGj9oMDiA77w+luScP3vve88AXfUhrACil/WDgu1UMSLDE3k7g0Hz8NoJVlQg33F54He/zebBhbzHZHgibpsXbZNIJAQMT2jEJEooBQ0WV2nYGyDyEcTNlsUkTQjQYJ0McKD3DU/EtQJ1OEjEEieNqABKyoDo8MROuXes9I0pXBPnCzh/tSQGjfS+K5X1uU3iyVQTe4YFnJ4Bn4xeX5FbQ8QDZnoax3RUpKlZxy7hEGPgRERxNAT8EkWYkECsIbExR2r/QfISP1447CIeVgAALS1nOL/ZjuM5G+jwVOpXs+ZLs9cKDk+c13hHKbdCAaH9L+mppBAyAyBtpKN2AN3JeSMGGt/kEzcKhbkJM2kl+9TXbuLHdm5uLpAPbEp3QDlW8wu/WsPZEwl8BO2o8+74ZuyBBYreUb+0NEVwDIRuZvKFKiUEU8KcTieFJvEXjEvzc8CJL1IF61j1ytE0bo2AbTINzyMkhdki2hClBcRAEw86GUYHVOeZsWxcv5VVbAMeB90sOBYghMH/IfTiP0iAEpyAjcFpUHo5iXFGL36RkC1qNOjc612RWxP4avkJDda6/M+SMJRI0CBjwYcbg4d5S3c999bK4qhh2GB+YO75pof9bxg29HzTYxg20AAvgXTiK/+8wiZgw7RAGiAVHavO+vDW/xEg8ui2dNerZmUPQphI0PA4u5Tb+4/vQwjZ/0QYOJ1O0ovso+AwSbzgWKABXmmCWYhwCi5/KQ1JirwqAU1S8Fo1RGqgUU1Xxq8hGmjix2vV1KSBRjVdGb+GaKCJH69VU5MGGtV0ZfwaooEmfrxWTU0aaFTTlfFriAaa+PFaNTVpoFFNV8avIRpo4sdr1dSkgUY1XRm/hmigiR+vVVOTBhrVdGX8GqKBJn68Vk1NGmhU05Xxa8iyAI35UgU5thc/viZVTZbu+rB8E6sfNNah9oKqy0nVifEn1vHhjlfk23hQOWgWbZOVrxfJ36Meve5Ctlrkd0P06o2wJPfYLe48cugSVA4a86WKsPaoh2aY7BQPr53wnfQOlWXRNtl55gQ9ERYqeayet1XnyDxko2bQeGYsr+YeZI/rxorfQuX2t9ZgRQHZMQk6DubP8GT0eltb2wcF22V2mD9n1ENWs0x2qRk0pmZdosQMhK5TpdnoaCmyDeA/VyrS0V59w9uJBw2ErUWZco7aqBY04Z64E+nOCKMXbZP7N4Jj5xqPnWskGtWibbKl5UwTc13q+5Y7zelqfL9ICaB5MnpdjuE61YKGGE3ieiXCvo88m9X8x4N/s5n01C6JZFFuhUgaYosopHalVtB4330+Jay1B8lODfvhw2sn8Mj4CIA3F22ToaZRrou6bCVIGgihHEMF6gQNNvNBjFuF3d/RyOA19l4ltg1GDB1nO29KCLxF2yQdsliDG9EgI5IynoxeT9lQwlrwCC4lOUBDbCLJnwcRkyLBp8SD26/F8DhAtDHpEUrpoCFrGEWvvABAGJJDXwwSN2/i9ULS3SKz0WWNX0vQrXTQzM3NffezBw83GbIlzVS638SQRNtj9wiZpQn3ih014ZaMrM2tPywxpCodNKTB4YEGL41Qu2Xhsiwa6e2nSlKpabAUyYskY81+RYOAJZWB7eWmSjBQhaBBRsvWHxazL7QkdsrO7JmxpGM4hJwTucdu7VgJFAUaCB+tkVyQVCFo+k9lban+IrGgIda1iRQJad1ezixXNlyjktD97vMpEitMKgQNsRMeFeYtsRBimxK8WC6tjcn/tLlEemRnd105mkaM6ApmSSLQyJw9ze/2W+UUbHI8I92tRZkAgFAbeoj5vngSFqIuZJb1qbfEEikfNPbBwUFivvVs583BwUEJrR41ElsQ/mIk4aOTj+GeGQtCjYJwLIaEgHg0gfLbYA94lBQ295C7FPYKARo8dQqpRvDZEMv7J6PXMWwyQn1MiCURYZaN/Z5Qc9r8zGKSBtnYJRtB2ECIDuMXnoB70lqJ6SKhiTjVIUspcaASOWcAYFNWqfw9hMRIMa8LiLlacYKRPVu2v0gDI+g1wkaxd08ENPh9HRgY+KqrivgiwPLqzQiqF29hTJ7c7ToHQKr0p5MRQ0f+G+8MDAzoG94GYGdcvjZ4qXIjszpTs25TVunAwMCpktTMsguDg4N1eUB6oRZCx7vPp9Se7yCy7WznzRFDxyrJybNoH0iO8sKgMepLiFpgatb5XPTc66VuDURrUsAD/E5vlQCNqVm3bv9HnMrzCLxYHi+qkYsG2cqNvfL1Ijzn8tbl+VwhGfUl0qs+Lrvpjwf/BiHEa6HEbcB8eXmIuZtw8zFoxI5wCIOGKwhRLGcrF5c+8b8YNNSLDp8ezE0gJnX5qaN97x67tQZrN+EQgNxOhasMWbrrWRdrEbSDuAiJDDToI470B09xgrxori94YddL4hmX9AS78MjjvOjwi+o/lUX9BfGfxeV+zNiCWSJ7oEd6gpTgFKS6/1QW659MME2oyEerAHV3xU8rJWmCnW/xcs+ODzNOdXkPIfEzQDxQ8P4HJ4UQtrW1CWJMTiT1lykJGkeBrKmvd3BwUOzlpr5beFTJfrNddXlg5epDYrDmcYbnS4v3lN7Ojg8zKra3NLC/xbppdnyYc2hCS6KBSEFj1JdIOwYmey/CEbaUJoEAdZoS7vdhdq+/JGgeASBrbHp47YTYeqgEkQJNCop6Mnr9afC0GCKDkjtaizIllvO59K5PT9b5ux+rI+z8UaSbvP2tNeLDSKSguXI0LVBd93mYJZ5wsS45lf/vbzkhJOsogXMr71ddVYVCV6jlUY4VEf1KgQZzk4G4i6Bt0TaJX1PkApi8r+ZLFXJOn4RLIOk8+ZtQg/dDUR/ElFQIEdnsa4Nny2WBtAl0E3kzuQlBYHJ0FyFo0Ho8owp5DX/v0je8XXu+w9h7Nf+Nd7772WMdaiefZ+vykI9Q3mTyX9vtBoUu/zsRTOqSYyQVYXsB8M1EIPT2nS7+q/GBZ8Zi7L368rpX29ravuqqwlu3vG3VOf9rXSRas/SEJRx6kVfVsL6kYvd3qRTls+PDxt6rla8XdV7u4XyCovr7W2tY5qPXBvtepLQJdtOIoUNCW4pQEe47XQywu1h2QcmoL2Flj/lSRcbBY5WvF1FvbJTQSANoeYrUSALir4JwDRg0GWJTbpfdtDdzW1NT05mTOs4FIYRw6uV1rzJDBvrGe+xcY0VFBaMoCFcnP9Z8qSIsH5ZOp/OiLhsA3toM8urIw/HQjVraKSOGjh0rkd9GpjlQsJusQ+1kfi7chCVMufkFnnyJ1QnQaR3zvR/ffT5FrJP4+UPdt+4DW/KPf9r+n5kAHKhpNvZe3e2XDaEy4+d4ehJicY9XEP8Ys9UM8i7KPn3CK0z4lmxrojJDOJGMWM+MJf+Nd3hK9JWjaZLf2oS76eG1E1KLKXh1V6xYqdlTUCseAbCVjkGLtsk/57z83c8eU7Pu89vTg4OD4UqFoPKnAEBz0UXbZCbnI5OMFEEpRSNkfkZg8xv1JewElTt9gohZcCywryybS36YNIcnHuRnZ1OSw1xsDIT2P4B1ElsvRLrJzTqTDiwQ3UX0GSG4GAg9M5aznTfpE7Tl+3KPE8c3NTUtnbm05Cej13/32+wIhwYsV8VeEVoFGxgxdLDEjxg62NMn7OjM5pIddstY/pdb2Iihgz/fsZpX5NYETkECShPsJoIkCQ7jrzFhf7AMqDjONw+vnZBzOFSQKmkNTjBLTCNNzTrpTsW1uwYHB6kID4ueh9dOsGJSZl7rUDurOwfnIp8axYaOsIan4MJjEsOb6pN5ZuBr4Z8eB1GApkhSo3VQhthF4PmX1A5tUjWeJYW97EvmTbXnO8JF24ihg54wF1W2s+8AAAxrSURBVGk7mj8C8YV7BYJmqgAAVgNwOp3vPQN4I47EUinSpqu/EGFHPKMfZQasWYhWjdYSXyznqbeiqePxAC1bSywqKg40+O3M4MmVQxs3f/ezh52Ec/5n/VN0yky0MzfvophopcliHPCvyhCyxf7Pjg/v3wjW7f9IQi+JManBxbuZBa3gp8rzlmsdal+RW8OKXKSmYFGJ92nvxHjyrb+RzZ28NVY86xb9ZinAg+hHodVw3scp6dtfH/w0+lREWqLLblol+WldWZJmdny4AHOXPQpvM+kzth/49GTd2c6bnPxARiHOdt4sLy9nJz4+LgV9fImUexHmmx0fJlsgpIHCPpVpaC1CgsLMhufbogukSbFHGBr1JZ/fnv5k33r/RziredfuavH1N1eBPGUiTGYul+Ro6iSuBScHaMgyNFlzmx0fdjqdNpMef/N6tHL1oQXHQqAChLr2ytG0mH4WlQ8fY+9ViZU3+eXEMaW9tSiTN+LzalfW8MQjDt/aP3yrahovE9dVHOm7PQIhpGtcd7vO1Z7vCAbNmLGFpxgJlRyHuPmq/6gNNS1yG3uvlh1uVIgivGib3LEyxF5B5YMmsq6d2vVUbjCYIisr0lzIrqc0DYu2yba2NmPf2V27qxUCGvSZLNT8X62gQSNUopf43D2Ve+hqx4ihg1q8IgGqwj8e71YMaLw9lXtCmvZRLWjGjC0FxQ3s1D1SgRF5vrbqHGZDkmg5ygENMtSYuY2iWYxi1YIGwqn89G3+CZcYA2IYj85yUAKSQtJYh9rlLDOqGDRw6EZtQu2+PPoNyA6lBSPMIjVi/eHECkX87riP52xgP+CIvVBqBg2E83/OeXnpW5/EeCcdj5bIArddCqVHdkCpriOtNQtlj2acTMvTybFOsxTGWLrr6VbIpZQTQV6yBzmCjAnK4m0o3MXfrCNCirolDYTQ8UHB9jgLG6fT2XnmBPslRIT5Coq2mfSlH/dxX2lCEKZ60MAno9cLihtksiMEt1T7eEqm/xXCAPWDhpi/CzmNVC0eZDRszNgic2BaRqCRwTctSRgcWBaSJgx+aEllcEADjQwmaUkCOaCBJpAf2p0MDmigkcEkLUkgBzTQBPJDu5PBAQ00MpikJQnkgAaaQH5odzI4oIFGBpO0JIEc0EATyA/tTgYHNNDIYJKWJJADGmgC+aHdyeCABhoZTNKSBHJAA00gP7Q7GRzQQCODSVqSQA5ooAnkh3YngwMaaGQwSUsSyAENNIH80O5kcEAmaFzG3qt9t0eiezbH6XQODAwElzk7Phyj3ZnEhUSM9guPGIgpAvfg4CDvMEqgwwsZ3aLsJGKgQZ5IuJa7+04Xb819raKiIrpWM8QOs40ZWyK27inN7aEbtQVVl2Nz1B4ZWcb8sVf/aTvPhDux/xv8ekhTq9inYqBx7QY+24jofG/66hi8+q6/pKeK7Gee35u5TeTRkjgZO9BYuus565ACoCFnhON8kmZJnJLMLAqaAh9ovLPjw3vTV/fdHmFcfXjn5uY82PkKJ40g8bdJ/S5BiAxtcFUjN6rcoIDif8EmqxlHoMQhCnpEjD1L2C5YcCx0njkRDGJKABUkNIarGh3U5SQNqouL95EEIWrXL9DXFlIOKYQKiQXHgtPpJFZqGYbA1n3U+QgLGn8trUWZibZiwfXGkn9DgMYzYyGeF1NSUhi7cPP56dsqKirWAEAiRwwdawBIS0Ou5HyWbbHhO+IzYehGLQA+g53Yntub5FgJtX+MLUbnnSpF/iOImYWH104Iud1y9bfWbF77bOnHfTxD4mPGls1rn01LS1sFwMmbd4nhox0rEUkpKSkFxQ1kYCWg8ZDj0+BN30FrRGoaTuBoKNxVXl6+N331KoAsbhr7zpJGHahpJrgx6ku25B8veuWF3z/3NAA7v5z4AXcBcsHHnfWnoHF/sm89PYHm9wa65D5LeAEhQAOxCaqg4Wn+UBby1eN7UzE+OIc8j3as9FkBrsvzIaDvdPEqAMgw31adQ0y2GPUl3EsPiTlJ9kW0DrUH+ixx97fWpANQ+nEflW2Ud8QvEndy3Y4osZoZL7GIWlIpC5qUDSUMaIg6guy4rtv/EcYHwkFm2QWUxmqmbhmN+pKUDSWEhp7KPb4XCXGAevHwgaancg9rwm3oRu2K3Bo59gBouxQbiBQ0GzdzLxm0dNezFk17KvcQWw2mZh0e5udfzT3I+SdyH8ryqUr9p7LoKWuX3cQzsPB4vHvDcweo3t1/Kgv4X2U+M4PdJo4YOljzacifD7Y8GAo0SNJQHZaxeI0c5hAdy6gvoXaKiDhEoxjyWUK9rdobCndtfwnwbB0+Hu8OfA34rUii+yiAhmc8vKdyjw8NiJVvolOxVZf/5TDs1dyDo9OjK1cfIrqCqVlHfZAS0LD+f6xD7SxoyHCzBgBB++xPRq9vyiqlCCNjHwsaZK4SG3AIFzScSaJ5CdAgcYskTQYnRZCkqf+ya8fKACvrQbIziUDCJzUKoMHvWapveLKa6fAEobsUAF31ITzuoJf1g4Lt3BQDGXplh6ffgGwWNA+vnWB7naPaS5xgHahpZgcpYluQO3BvRzoyHjG5+RcansjYR0GD3RGkES2kv7WGmy3zJY1M0BAvHhz9vuGJOKbjFB1IxBJVqLkWJeWvKGjYKXeQucf5As4fE2k09hxJFOFUqvpBiJBBfY1ie+N+h81PRq9TWGCmE+fjPiaamnWM3s3jLDKHyZs9jRlbVgGQkpICOKdi2MUciklJSTlS+w8i3oZu1GaWXcBhF+f3NlVXfQiADKIII6s+w75JX6nfMcd8afZaweEJ5F3EpSE/vJz3Bvtf0lNJIZiGnUQE0lGb15hkvBUDDXJzws1Q0ESUC5M2+qambIOJ71N2FgohdDqdZIKNU/rnn+gWi3ROfaaTXlKk/XjOBmlTtmzVJBw8wSYxLEkLjgXmFlVK1gW4FYGAljKt9scTb7mkRjZ85WgaZ98QJ/bRh6rA0gUj6Q5dgwgmP5lixEATjzaIGeD0zFg2rt/KDkDS1Cw4FiCEwf8h9OI/hF3BBGwWkhJX5A2ZmHmFUGIkbO71rsit4RZ++PS6x27xtC5+iqS6TyRoiOWY4GGe9eQph5mGYYP5gfnKP6+w/w3Dhp5vegzDBhJgHwmG2cSGYQOvNF4WXmJye6w668Nb/0eAyCPbqC/h5BDvSVLeJhI0UWTY6PQohJD8v//4PicqvAuOBdKLJJJNxoZpFpzYKzMxljeoCgghmyWK7VJmUSoBjTKZq1aqNNCotWdj2C4NNDFkrlqL1kCj1p6NYbs00MSQuWotWgONWns2hu3SQBND5qq1aA00au3ZGLZLA00MmavWojXQqLVnY9guDTQxZK5ai9ZAo9aejWG7NNDEkLlqLVoDjVp7Nobt0kATQ+aqtWgNNGrt2Ri2SwNNDJmr1qI10Ki1Z2PYLjHQOAYHBwcGBgbxRQPB+3mjSNqibZJUFMUytaJiwQFh0OBj+nl3v//hq66qTVmld7//AR3heeqtWFBAynSP3dqSf3xubq7vdPGBmmZyTCl21WklL4UDwqCxdNeTo19+WwdWc+nHfUupSTKvqy7Pd9jMM2NZA4BqTLlItjpZHwqDhmuNix5o5WLC+HWKX/xS8Cla7jC2/d3nU9R04IPf2OS/lwKNZ8by4q9+G+lL771yFJmrEbiwAQeWdXg0TOVA4/1k33pqUIJNpoUVwgEp0BBrDBInHUcMHW1tbRIJZDYyEDTIFpAGGpmsS0gyKdAQhUZyxoTGL2oYIeIGWIfaGfMzmqSJmJFxyigFmtZ9gNUtyJT4u589nhkLMg/rdM5Mm3ftroYQzo4PBxmM9XJmGfgDlJBdtKk1AHCGIJBJCs6sVZy4oFUTFgckQDOVyVnAwyV6Oy/3WLrrC4obBgYGOi/3OLHlOowqx/GcDWc7b/LmycSowlzQxZyep6R6eyr3kNmZzaSnJkjoYy2gKA6Igqa/taawsBAZKMQmFwjRpmYdaxnPfKki4+Cx/PRt1JTaEtrmbny/qKmpqfY8MeG8hJK0rDHmgChoBOt97xlWg7E3vl9kvvfjJ/vWc0agBDNpkWrjQBigIYZb6RiEjFJnbpuGkIgfY+9VMessauPZsm9PGKBZtE323R6hHCN68S/YZmxUJt60ZC2gcA6EARqFt0QjL24c0EATN1arpyINNOrpy7i1RANN3Fitnoo00KinL+PWEg00cWO1eirSQKOevoxbSzTQxI3V6qno/wEEScbJ95/WEAAAAABJRU5ErkJggg==)"
      ]
    },
    {
      "cell_type": "code",
      "execution_count": 6,
      "metadata": {
        "colab": {
          "base_uri": "https://localhost:8080/"
        },
        "id": "R01LT8_N9scQ",
        "outputId": "394ebea0-e36e-4891-f83a-9e34b54b9907"
      },
      "outputs": [
        {
          "name": "stdout",
          "output_type": "stream",
          "text": [
            "L:\n",
            " [[ 1  0  0  0]\n",
            " [ 2  3  0  0]\n",
            " [ 4  5  6  0]\n",
            " [ 7  8  9 10]]\n",
            "L * L.T:\n",
            " [[  1   2   4   7]\n",
            " [  2  13  23  38]\n",
            " [  4  23  77 122]\n",
            " [  7  38 122 294]]\n"
          ]
        }
      ],
      "source": [
        "import numpy as np\n",
        "\n",
        "def cholesky_decomposition(A):\n",
        "    n = A.shape[0]\n",
        "    L = np.zeros_like(A)\n",
        "\n",
        "    for i in range(n):\n",
        "        for j in range(i + 1):\n",
        "            if i == j:  # Diagonal elements\n",
        "                L[i, j] = np.sqrt(A[i, i] - np.sum(L[i, :i] ** 2))\n",
        "            else:  # Off-diagonal elements\n",
        "                L[i, j] = (A[i, j] - np.sum(L[i, :j] * L[j, :j])) / L[j, j]\n",
        "\n",
        "    return L\n",
        "\n",
        "# Beck's example:\n",
        "q = np.array([[1, 2, 4, 7],\n",
        "              [2, 13, 23, 38],\n",
        "              [4, 23, 77, 122],\n",
        "              [7, 38, 122, 294]])\n",
        "\n",
        "L = cholesky_decomposition(q)\n",
        "print(\"L:\\n\", L)\n",
        "print(\"L * L.T:\\n\", np.dot(L, L.T))"
      ]
    },
    {
      "cell_type": "markdown",
      "metadata": {
        "id": "BF7UI3Y7GrJ9"
      },
      "source": [
        "to solve an equation with cholesky decomposition:\n",
        "\n",
        "![image.png](data:image/png;base64,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)"
      ]
    },
    {
      "cell_type": "code",
      "execution_count": 7,
      "metadata": {
        "colab": {
          "base_uri": "https://localhost:8080/"
        },
        "id": "CCfM8gycATD7",
        "outputId": "4eb7c50f-731f-4ef4-c089-5f3cf8584819"
      },
      "outputs": [
        {
          "name": "stdout",
          "output_type": "stream",
          "text": [
            "[[-4.43645121e-13]\n",
            " [ 2.00100100e+00]\n",
            " [ 9.98998999e-01]]\n"
          ]
        }
      ],
      "source": [
        "A = np.array([[1, 1, 1],\n",
        "              [1, 1.001, 1.001],\n",
        "              [1, 1.001, 2]])\n",
        "b = np.array([[3],\n",
        "              [3.0030],\n",
        "              [4.0010]])\n",
        "cholA=cholesky_decomposition(A)\n",
        "\n",
        "u = np.linalg.solve(cholA, b)\n",
        "x = np.linalg.solve(cholA.T, u)\n",
        "print(x)"
      ]
    },
    {
      "cell_type": "code",
      "execution_count": 8,
      "metadata": {
        "colab": {
          "base_uri": "https://localhost:8080/"
        },
        "id": "zneh__dcJLl8",
        "outputId": "ecfe62f7-ab48-4bcc-90ef-a0b41a6ac532"
      },
      "outputs": [
        {
          "name": "stdout",
          "output_type": "stream",
          "text": [
            "[[-4.43645121e-13]\n",
            " [ 2.00100100e+00]\n",
            " [ 9.98998999e-01]]\n"
          ]
        }
      ],
      "source": [
        "cholAnumpy = np.linalg.cholesky(A)\n",
        "u1 = np.linalg.solve(cholAnumpy, b)\n",
        "x1 = np.linalg.solve(cholAnumpy.T, u)\n",
        "print(x1)"
      ]
    },
    {
      "cell_type": "code",
      "execution_count": 9,
      "metadata": {
        "colab": {
          "base_uri": "https://localhost:8080/"
        },
        "id": "u9VGnI7NJbsH",
        "outputId": "696f19c0-9f89-4564-e8e0-58a69660e690"
      },
      "outputs": [
        {
          "name": "stdout",
          "output_type": "stream",
          "text": [
            "[0.]\n"
          ]
        }
      ],
      "source": [
        "def MSE(x):\n",
        "  sum=0\n",
        "  for i in x:\n",
        "    sum = i**2\n",
        "  return sum\n",
        "\n",
        "mse = MSE (x-x1)\n",
        "print(mse)\n",
        "\n"
      ]
    },
    {
      "cell_type": "markdown",
      "metadata": {
        "id": "iD3ye23rTGJZ"
      },
      "source": [
        "🗿"
      ]
    }
  ],
  "metadata": {
    "colab": {
      "provenance": []
    },
    "kernelspec": {
      "display_name": "Python 3",
      "name": "python3"
    },
    "language_info": {
      "name": "python"
    }
  },
  "nbformat": 4,
  "nbformat_minor": 0
}
